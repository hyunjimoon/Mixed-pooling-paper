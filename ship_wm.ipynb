{
 "cells": [
  {
   "cell_type": "markdown",
   "metadata": {},
   "source": [
    "# <center>**When seasonality meets Bayesian: Decomposing seasonalities in Stan**</center>\n",
    "## <center>Hyunji Moon, Hyeonseop Lee</center>"
   ]
  },
  {
   "cell_type": "markdown",
   "metadata": {},
   "source": [
    "# Abstract\n",
    "\n",
    "Multiple seasonalities play a key role in time series forecasting, especially for business time series where seasonal effects are often dramatic. Previous approaches including Fourier decomposition, exponential smoothing, and Seasonal ARIMA do not reflect distinct characteristics of each period in seasonal patterns such as unique behavior of specific day of the week in business data. We propose a multi-dimensional hierarchical model. Intermediate parameters for each seasonal period are first estimated, then mixture of intermediate parameters are then taken, resulting in the model which successfully reflects interactions between multiple seasonalities. Although this process leads to the reduction of data available for each parameter, a robust estimation can be obtained through a hierarchical Bayesian model. Consideration of not only the characteristics of each seasonal periods but also the interactions between characteristics from multiple seasonalities becomes possible through this model. Our new model is implemented in Stan and considerable improvements in prediction accuracy compared to previous models are achieved. Previous models include Fourier decomposition which Prophet uses to model seasonalities. Comparison has been performed on real-world dataset from a nation-scale logistic network."
   ]
  },
  {
   "cell_type": "code",
   "execution_count": 1,
   "metadata": {},
   "outputs": [
    {
     "name": "stderr",
     "output_type": "stream",
     "text": [
      "/usr/local/lib/python3.7/site-packages/xarray/core/merge.py:17: FutureWarning: The Panel class is removed from pandas. Accessing it from the top-level namespace will also be removed in the next version\n",
      "  PANDAS_TYPES = (pd.Series, pd.DataFrame, pd.Panel)\n"
     ]
    }
   ],
   "source": [
    "from matplotlib import pyplot as plt\n",
    "import numpy as np\n",
    "import pandas as pd\n",
    "import pystan\n",
    "import arviz as az\n",
    "plt.style.use('ggplot')"
   ]
  },
  {
   "cell_type": "markdown",
   "metadata": {},
   "source": [
    "# Introduction\n",
    "\n",
    "Two problems on modeling seasonalities in time series motivated our proposed model.\n",
    "\n",
    "1. **Periodic scale jumps.** In business time series, we can easily observe periodic scale jumps, such as trade volume falls in weekend or extreme spikes due to stock adjustment right before the end-of-month evaluation. Previous seasonality models which fit the whole seasonal periods with a single set of parameters hardly capture these extreme patterns. We solve this problem by separating parameters for each seasonal component, such as day of the week or day of the month. Each parameter is fit using hierarchical model to achieve partial pooling.\n",
    "\n",
    "2. **Effects of multiple seasonalities.** Business time series generally exhibits more than one seasonal patterns. As each seasonal pattern has distinct periods and effects, it is not trivial to design a model that can capture multiple seasonalities at once. We construct a mixture model that estimate the final parameter distributions by taking a mixture of intermediate parameter distributions for each seasonality."
   ]
  },
  {
   "cell_type": "markdown",
   "metadata": {},
   "source": [
    "# Models\n",
    "\n",
    "Our base model assumes time series with linear trend. It models value $y(t)$ at time $t$ as below:\n",
    "\n",
    "$y(t) = kt + m + \\epsilon_t$\n",
    "\n",
    "where $k$ is the growth rate, $m$ is the offset parameter, and $\\epsilon_t$ is the error term."
   ]
  },
  {
   "cell_type": "markdown",
   "metadata": {},
   "source": [
    "## Complete Pooling Model\n",
    "\n",
    "In complete pooling model for baseline, all data points share single set of parameters $k$ and $m$.\n",
    "\n",
    "$y(t) \\sim N(kt + m, \\sigma)$\n",
    "\n",
    "We used Normal(0, 5) for parameters' prior, which Prophet uses."
   ]
  },
  {
   "cell_type": "code",
   "execution_count": 2,
   "metadata": {},
   "outputs": [],
   "source": [
    "complete_pooling_model_code = '''\n",
    "data {\n",
    "    int<lower=1> T;\n",
    "    vector[T] t;\n",
    "    vector[T] y;\n",
    "}\n",
    "parameters {\n",
    "    real k;\n",
    "    real m;\n",
    "    real<lower=0> sigma_obs;\n",
    "}\n",
    "transformed parameters {\n",
    "    vector[T] yhat;\n",
    "    yhat = k * t + m;\n",
    "}\n",
    "model {\n",
    "    k ~ normal(0, 5);\n",
    "    m ~ normal(0, 5);\n",
    "\n",
    "    y ~ normal(yhat, sigma_obs);\n",
    "}\n",
    "generated quantities{\n",
    "    vector[T] log_lik;\n",
    "    for (i in 1:T) {\n",
    "        log_lik[i] = normal_lpdf(y[i]|yhat[i], sigma_obs);\n",
    "    }\n",
    "}\n",
    "'''"
   ]
  },
  {
   "cell_type": "markdown",
   "metadata": {},
   "source": [
    "## Partial Pooling Model\n",
    "\n",
    "In partial pooling model, we group data points by periods in seasonality, such as day of the week or day of the month.\n",
    "\n",
    "Each period $i$ in seasonality has its own set of parameters $k_i$ and $m_i$, and those parameters shares single set of priors $N(\\mu_k, \\sigma_k)$ and $N(\\mu_m, \\sigma_m)$. This forms a hierarchical model so parameters can share information through their prior.\n",
    "\n",
    "$k_i \\sim N(\\mu_k, \\sigma_k)$\n",
    "\n",
    "$m_i \\sim N(\\mu_m, \\sigma_m)$\n",
    "\n",
    "$y(t) \\sim N(k_it + m_i, \\sigma)$\n",
    "\n",
    "We used proxy variables $p_k$ and $p_m$ to achieve vectorization in likelihood statement.\n",
    "\n",
    "Priors Normal(0, 5) and Exponential(1) are used for parameters' mean and standard deviation."
   ]
  },
  {
   "cell_type": "code",
   "execution_count": 3,
   "metadata": {},
   "outputs": [],
   "source": [
    "partial_pooling_model_code = '''\n",
    "data {\n",
    "    int<lower=1> T;\n",
    "    int<lower=1> P;\n",
    "    vector[T] t;\n",
    "    vector[T] y;\n",
    "    int pool[T];\n",
    "}\n",
    "parameters {\n",
    "    real k_mu;\n",
    "    real<lower=0> k_sigma;\n",
    "    real m_mu;\n",
    "    real<lower=0> m_sigma;\n",
    "    real k[P];\n",
    "    real m[P];\n",
    "    real<lower=0> sigma_obs;\n",
    "}\n",
    "transformed parameters {\n",
    "    vector[T] p_k;\n",
    "    vector[T] p_m;\n",
    "    vector[T] yhat;\n",
    "    for (i in 1:T) {\n",
    "        p_k[i] = k[pool[i]];\n",
    "        p_m[i] = m[pool[i]];\n",
    "    }\n",
    "    yhat = p_k .* t + p_m;\n",
    "}\n",
    "model {\n",
    "    k_mu ~ normal(0, 5);\n",
    "    k_sigma ~ exponential(1);\n",
    "    m_mu ~ normal(0, 5);\n",
    "    m_sigma ~ exponential(1);\n",
    "\n",
    "    k ~ normal(k_mu, k_sigma);\n",
    "    m ~ normal(m_mu, m_sigma);\n",
    "    sigma_obs ~ normal(0, 0.5);\n",
    "\n",
    "    y ~ normal(yhat, sigma_obs);\n",
    "}\n",
    "generated quantities{\n",
    "    vector[T] log_lik;\n",
    "    for (i in 1:T) {\n",
    "        log_lik[i] = normal_lpdf(y[i]|yhat[i], sigma_obs);\n",
    "    }\n",
    "}\n",
    "'''"
   ]
  },
  {
   "cell_type": "markdown",
   "metadata": {},
   "source": [
    "## Mixture Model\n",
    "\n",
    "Partial pooling model provides distinct set of parameters for each period in seasonality. However it comes unclear to propose a likelihood on observed value $y$ when we model time series with more than one seasonalites. In mixture model, we take linear mixture of each parameters to obtain single set of parameters. The mixture weight $\\theta$ represents contribution of each seasonality to the time series.\n",
    "\n",
    "$k_{ij} \\sim N(\\mu_k, \\sigma_k)$\n",
    "\n",
    "$m_{ij} \\sim N(\\mu_m, \\sigma_m)$\n",
    "\n",
    "$y(t) \\sim N((k_i \\cdot \\theta)t + (m_i \\cdot \\theta), \\sigma)$"
   ]
  },
  {
   "cell_type": "code",
   "execution_count": 4,
   "metadata": {},
   "outputs": [],
   "source": [
    "mixture_model_code = '''\n",
    "data {\n",
    "    int<lower=1> T;\n",
    "    int<lower=1> D;\n",
    "    int<lower=1> P;\n",
    "    vector[T] t;\n",
    "    vector[T] y;\n",
    "    int pool[T, D];\n",
    "    vector[D] season_w;\n",
    "}\n",
    "parameters {\n",
    "    real k_mu;\n",
    "    real<lower=0> k_sigma;\n",
    "    real m_mu;\n",
    "    real<lower=0> m_sigma;\n",
    "    real k[D, P];\n",
    "    real m[D, P];\n",
    "    simplex[D] theta;\n",
    "    real<lower=0> sigma_obs;\n",
    "}\n",
    "transformed parameters {\n",
    "    matrix[T, D] p_k;\n",
    "    matrix[T, D] p_m;\n",
    "    vector[T] yhat;\n",
    "    for (i in 1:T) {\n",
    "        for (d in 1:D) {\n",
    "            p_k[i, d] = k[d, pool[i, d]];\n",
    "            p_m[i, d] = m[d, pool[i, d]];\n",
    "        }\n",
    "    }\n",
    "    yhat = (p_k * theta) .* t + (p_m * theta);\n",
    "}\n",
    "model {\n",
    "    k_mu ~ normal(0, 5);\n",
    "    k_sigma ~ exponential(1);\n",
    "    m_mu ~ normal(0, 5);\n",
    "    m_sigma ~ exponential(1);\n",
    "\n",
    "    for (d in 1:D) {\n",
    "        k[d] ~ normal(k_mu, k_sigma);\n",
    "        m[d] ~ normal(m_mu, m_sigma);\n",
    "    }\n",
    "    sigma_obs ~ normal(0, 0.5);\n",
    "\n",
    "    y ~ normal(yhat, sigma_obs);\n",
    "    target += dirichlet_lpdf(theta | season_w);\n",
    "}\n",
    "generated quantities{\n",
    "    vector[T] log_lik;\n",
    "    for (i in 1:T) {\n",
    "        log_lik[i] = normal_lpdf(y[i]|yhat[i], sigma_obs);\n",
    "    }\n",
    "}\n",
    "'''"
   ]
  },
  {
   "cell_type": "markdown",
   "metadata": {},
   "source": [
    "## Fourier Decomposition Model\n",
    "\n",
    "We also implemented Fourier decomposition model which relies on Fourier series to reflect periodic effects, which is one of the popular method for modeling single or multiple seasonalities and what Prophet uses, for comparison. We perform regression to time series with Fourier terms $X_t$ and regression parameter $\\beta$ as below:\n",
    "\n",
    "$y(t) \\sim N(k_it + X_t \\cdot \\beta + m_i, \\sigma)$\n",
    "\n",
    "where Fourier term $X_t$ can be constructed as below:\n",
    "\n",
    "$X_t = [\\frac{\\cos(2 \\pi t)}{P}, \\frac{\\sin(2 \\pi t)}{P}, \\dots, \\frac{\\cos(2 \\pi n t)}{P}, \\frac{\\sin(2 \\pi n t)}{P}]$\n",
    "\n",
    "where $P$ is the regular period of the seasonality and $n$ is the order of the Fourier series.\n",
    "\n",
    "Normal(0, 10) is used for $\\beta$'s prior."
   ]
  },
  {
   "cell_type": "code",
   "execution_count": 5,
   "metadata": {},
   "outputs": [],
   "source": [
    "def generate_fourier_terms(ds, period, order):\n",
    "    t = np.array((ds - pd.datetime(1970, 1, 1)).dt.total_seconds().astype(np.float)) / (3600. * 24.)\n",
    "    terms = np.column_stack([\n",
    "        fun((2. * (i + 1) * np.pi * t / period))\n",
    "        for i in range(order)\n",
    "        for fun in (np.sin, np.cos)\n",
    "    ])\n",
    "    return terms\n",
    "\n",
    "fourier_deomposition_model_code = '''\n",
    "data {\n",
    "    int<lower=1> T;\n",
    "    int<lower=1> K;\n",
    "    vector[T] t;\n",
    "    vector[T] y;\n",
    "    matrix[T,K] X;\n",
    "}\n",
    "parameters {\n",
    "    real k;\n",
    "    real m;\n",
    "    vector[K] beta;\n",
    "    real<lower=0> sigma_obs;\n",
    "}\n",
    "transformed parameters {\n",
    "    vector[T] yhat;\n",
    "\n",
    "    yhat = k * t + X * beta + m;\n",
    "}\n",
    "model {\n",
    "    k ~ normal(0, 5);\n",
    "    m ~ normal(0, 5);\n",
    "    beta ~ normal(0, 10);\n",
    "    sigma_obs ~ normal(0, 0.5);\n",
    "\n",
    "    y ~ normal(yhat, sigma_obs);\n",
    "}\n",
    "generated quantities{\n",
    "    vector[T] log_lik;\n",
    "    for (i in 1:T) {\n",
    "        log_lik[i] = normal_lpdf(y[i]|yhat[i], sigma_obs);\n",
    "    }\n",
    "}\n",
    "'''"
   ]
  },
  {
   "cell_type": "code",
   "execution_count": 6,
   "metadata": {
    "scrolled": false
   },
   "outputs": [
    {
     "name": "stderr",
     "output_type": "stream",
     "text": [
      "INFO:pystan:COMPILING THE C++ CODE FOR MODEL anon_model_a49272fb557be9008e01eafb7c937b41 NOW.\n",
      "INFO:pystan:COMPILING THE C++ CODE FOR MODEL anon_model_503a294de0d59e15bb48a0573af56c67 NOW.\n",
      "INFO:pystan:COMPILING THE C++ CODE FOR MODEL anon_model_b23f55bb6707e56680a929e21222f683 NOW.\n",
      "INFO:pystan:COMPILING THE C++ CODE FOR MODEL anon_model_bab9eae5021c8c4efc7591e854a23b4e NOW.\n"
     ]
    }
   ],
   "source": [
    "cpm = pystan.StanModel(model_code=complete_pooling_model_code)\n",
    "ppm = pystan.StanModel(model_code=partial_pooling_model_code)\n",
    "mm = pystan.StanModel(model_code=mixture_model_code)\n",
    "fdm = pystan.StanModel(model_code=fourier_deomposition_model_code)"
   ]
  },
  {
   "cell_type": "code",
   "execution_count": 7,
   "metadata": {},
   "outputs": [],
   "source": [
    "def generate_cpm_data(df):\n",
    "    return {\n",
    "        'T': df.shape[0],\n",
    "        't': df['t'],\n",
    "        'y': df['y'],\n",
    "    }\n",
    "\n",
    "def predict_cpm(params, df):\n",
    "    df = df.copy()\n",
    "    df['yhat'] = params['k'] * df['t'] + params['m']\n",
    "    return df\n",
    "\n",
    "def generate_ppm_data(df, pool):\n",
    "    return {\n",
    "        'T': df.shape[0],\n",
    "        'P': df[pool].unique().shape[0],\n",
    "        't': df['t'],\n",
    "        'y': df['y'],\n",
    "        'pool': df[pool],\n",
    "    }\n",
    "\n",
    "def predict_ppm(params, df, pool):\n",
    "    df = df.copy()\n",
    "    k = np.array([params['k'][i - 1] for i in df[pool]])\n",
    "    m = np.array([params['m'][i - 1] for i in df[pool]])\n",
    "    df['yhat'] = k * df['t'] + m\n",
    "    return df\n",
    "\n",
    "def generate_mm_data(df, season_w, *pools):\n",
    "    return {\n",
    "        'T': df.shape[0],\n",
    "        'D': len(pools),\n",
    "        'P': max([df[pool].unique().shape[0] for pool in pools]),\n",
    "        't': df['t'],\n",
    "        'y': df['y'],\n",
    "        'pool': np.transpose([df[pool] for pool in pools]),\n",
    "        'season_w' : season_w\n",
    "    }\n",
    "\n",
    "def predict_mm(params, df, *pools):\n",
    "    df = df.copy()\n",
    "    k = np.array([[params['k'][p][i - 1] for i in df[pool]] for p, pool in enumerate(pools)])\n",
    "    m = np.array([[params['m'][p][i - 1] for i in df[pool]] for p, pool in enumerate(pools)])\n",
    "    df['yhat'] = np.dot(k.transpose(), params['theta']) * df['t'] + np.dot(m.transpose(), params['theta'])\n",
    "    return df\n",
    "\n",
    "def generate_fdm_data(df, *terms):\n",
    "    X = np.concatenate([generate_fourier_terms(df['ds'], period, order) for period, order in terms], axis=1)\n",
    "    return {\n",
    "        'T': df.shape[0],\n",
    "        'K': sum(order * 2 for _, order in terms),\n",
    "        't': df['t'],\n",
    "        'y': df['y'],\n",
    "        'X': X,\n",
    "    }\n",
    "\n",
    "def predict_fdm(params, df, *terms):\n",
    "    df = df.copy()\n",
    "    X = np.concatenate([generate_fourier_terms(df['ds'], period, order) for period, order in terms], axis=1)\n",
    "    df['yhat'] = params['k'] * df['t'] + np.dot(X, params['beta']) + params['m']\n",
    "    return df"
   ]
  },
  {
   "cell_type": "markdown",
   "metadata": {},
   "source": [
    "# Evaluation\n",
    "\n",
    "For evaluation, we use real world dataset from a nation-scale logistic network. Each time series represents logistic units transported for recent two years according to certain kind of logistics."
   ]
  },
  {
   "cell_type": "markdown",
   "metadata": {},
   "source": [
    "We normalize $t$ and $y$ which represent timestamp and time series value of each data point respectively. Also we add period columns, day of the week and day of the month, for the convenience of populating model inputs."
   ]
  },
  {
   "cell_type": "code",
   "execution_count": 8,
   "metadata": {},
   "outputs": [],
   "source": [
    "def preprocess(df):\n",
    "    df['ds'] = pd.to_datetime(df['ds'])\n",
    "    df['weekday'] = df['ds'].dt.weekday + 1\n",
    "    df['monthday'] = df['ds'].dt.day\n",
    "    t_start = df['ds'].min()\n",
    "    t_scale = df['ds'].max() - t_start\n",
    "    df['t'] = (df['ds'] - t_start) / t_scale\n",
    "    df['y_scale'] = df['y'].abs().max()\n",
    "    df['y'] = df['y'] / df['y_scale']\n",
    "    return df"
   ]
  },
  {
   "cell_type": "markdown",
   "metadata": {},
   "source": [
    "We are performing an expanding window cross validation with given size of initial data points and horizon."
   ]
  },
  {
   "cell_type": "code",
   "execution_count": 9,
   "metadata": {},
   "outputs": [],
   "source": [
    "def generate_cv_data(df, initial, horizon):\n",
    "    n = df.shape[0]\n",
    "    cutoff = initial\n",
    "    while cutoff + horizon <= n:\n",
    "        train_df = df.iloc[:cutoff].reset_index(drop=True)\n",
    "        test_df = df.iloc[cutoff:cutoff + horizon].reset_index(drop=True)\n",
    "        yield train_df, test_df\n",
    "        cutoff += horizon"
   ]
  },
  {
   "cell_type": "markdown",
   "metadata": {},
   "source": [
    "Since our dataset contains values of various scale, relative errors would be overly sensitive to data point of tiny scale. We are using mean absolute error, divided by mean true value for comparison, for each fold in cross validation dataset."
   ]
  },
  {
   "cell_type": "code",
   "execution_count": 10,
   "metadata": {},
   "outputs": [],
   "source": [
    "def calculate_mae(df):\n",
    "    y, yhat = df['y'] * df['y_scale'], df['yhat'] * df['y_scale']\n",
    "    return np.mean(np.abs(y - yhat))\n",
    "\n",
    "def calculate_mape(df):\n",
    "    y, yhat = df['y'] * df['y_scale'], df['yhat'] * df['y_scale']\n",
    "    return np.mean(np.abs(y - yhat)) / np.mean(y)"
   ]
  },
  {
   "cell_type": "code",
   "execution_count": 11,
   "metadata": {},
   "outputs": [],
   "source": [
    "def calculate_loo(stan_fit):\n",
    "    data_ar = az.from_pystan(\n",
    "        posterior = stan_fit,\n",
    "        posterior_predictive = ['yhat'],\n",
    "        observed_data = ['y'],\n",
    "        log_likelihood='log_lik',\n",
    "        )\n",
    "    return az.loo(data_ar).loo"
   ]
  },
  {
   "cell_type": "code",
   "execution_count": 12,
   "metadata": {},
   "outputs": [],
   "source": [
    "def plot_data(df):\n",
    "    df = df.iloc[-90:].reset_index(drop=True)\n",
    "    fig, axes = plt.subplots(2, 1, figsize=(10, 8))\n",
    "    df['y'].plot(ax=axes[0])\n",
    "    axes[0].set_ylabel('y')\n",
    "    pd.plotting.autocorrelation_plot(df['y'], ax=axes[1])\n",
    "    fig.tight_layout()\n",
    "\n",
    "def plot_predict(df):\n",
    "    df = df.iloc[-90:].reset_index(drop=True)\n",
    "    fig, ax = plt.subplots(1, 1, figsize=(10, 4))\n",
    "    df.plot(ax=ax)\n",
    "    ax.set_ylabel('y')\n",
    "    plt.savefig(f'{len(df)}.eps', format='eps')"
   ]
  },
  {
   "cell_type": "markdown",
   "metadata": {},
   "source": [
    "## Data I: Delivery\n",
    "\n",
    "Our first dataset delivery shows strong weekly periodicity. We can observe sharp fall in time series every Sunday."
   ]
  },
  {
   "cell_type": "code",
   "execution_count": 57,
   "metadata": {
    "scrolled": false
   },
   "outputs": [
    {
     "data": {
      "image/png": "[encoded data removed]",
      "text/plain": [
       "<Figure size 720x576 with 2 Axes>"
      ]
     },
     "metadata": {
      "needs_background": "light"
     },
     "output_type": "display_data"
    }
   ],
   "source": [
    "df = preprocess(pd.read_csv('delivery.csv'))\n",
    "plot_data(df)"
   ]
  },
  {
   "cell_type": "markdown",
   "metadata": {},
   "source": [
    "For Fourier decomposition model we configure a weekly seasonality by setting 7 days as period $P$ and 3 as Fourier order $n$."
   ]
  },
  {
   "cell_type": "code",
   "execution_count": null,
   "metadata": {},
   "outputs": [],
   "source": [
    "data = generate_fdm_data(df, (7, 3))\n",
    "params = fdm.optimizing(data=data)\n",
    "predict_df = predict_fdm(params, df, (7, 3))\n",
    "fdm_yhat_w = predict_df['yhat']\n",
    "\n",
    "fdm_mae_w = np.asarray([\n",
    "    calculate_mae(predict_fdm(fdm.optimizing(data=generate_fdm_data(train_df, (7, 3))), test_df, (7, 3)))\n",
    "    for train_df, test_df in generate_cv_data(df, 365, 30)\n",
    "])"
   ]
  },
  {
   "cell_type": "code",
   "execution_count": null,
   "metadata": {},
   "outputs": [],
   "source": [
    "data = generate_cpm_data(df)\n",
    "params = cpm.optimizing(data=data)\n",
    "predict_df = predict_cpm(params, df)\n",
    "cpm_yhat_w = predict_df['yhat']\n",
    "\n",
    "cpm_mae_w = np.asarray([\n",
    "    calculate_mae(predict_cpm(cpm.optimizing(data=generate_cpm_data(train_df)), test_df))\n",
    "    for train_df, test_df in generate_cv_data(df, 365, 30)\n",
    "])"
   ]
  },
  {
   "cell_type": "markdown",
   "metadata": {},
   "source": [
    "Since the dataset shows weekly seasonality, we are pooling data points by day of the week. In the case of pooling models, we used the Newton algorithm for robust convergence of optimization."
   ]
  },
  {
   "cell_type": "code",
   "execution_count": 60,
   "metadata": {},
   "outputs": [],
   "source": [
    "data = generate_ppm_data(df, 'weekday')\n",
    "params = ppm.optimizing(data=data)\n",
    "predict_df = predict_ppm(params, df, 'weekday')\n",
    "ppm_yhat_w = predict_df['yhat']\n",
    "\n",
    "ppm_mae_w = np.asarray([\n",
    "    calculate_mae(predict_ppm(ppm.optimizing(data=generate_ppm_data(train_df, 'weekday'), algorithm='Newton'), test_df, 'weekday'))\n",
    "    for train_df, test_df in generate_cv_data(df, 365, 30)\n",
    "])"
   ]
  },
  {
   "cell_type": "code",
   "execution_count": null,
   "metadata": {},
   "outputs": [],
   "source": [
    "season_w = np.array([5,1])\n",
    "data = generate_mm_data(df,season_w, 'weekday', 'monthday')\n",
    "\n",
    "params = mm.optimizing(data=data)\n",
    "predict_df = predict_mm(params, df, 'weekday', 'monthday')\n",
    "mm_yhat_w = predict_df['yhat']\n",
    "\n",
    "mm_mae_w = np.asarray([\n",
    "    calculate_mae(predict_mm(mm.optimizing(data=generate_mm_data(train_df, season_w,'weekday', 'monthday'), algorithm='Newton'), test_df, 'weekday', 'monthday'))\n",
    "    for train_df, test_df in generate_cv_data(df, 365, 30)\n",
    "])\n",
    "# mm_loo = np.asarray([\n",
    "#     calculate_loo(mm.sampling(data = generate_mm_data(train_df, 'weekday', 'monthday')))\n",
    "#     for train_df, _ in generate_cv_data(df, 365, 30)\n",
    "# ])"
   ]
  },
  {
   "cell_type": "markdown",
   "metadata": {},
   "source": [
    "Below is evaluation result in mean absolute error and fitted models.\n",
    "\n",
    "Complete pooling model does not consider weekly seasonality at all because every data points share single set of parameters.\n",
    "\n",
    "Fourier decomposition model and partial pooling model behaves almost identically and negligible difference in performance is observed."
   ]
  },
  {
   "cell_type": "code",
   "execution_count": null,
   "metadata": {
    "scrolled": true
   },
   "outputs": [],
   "source": [
    "total_df = pd.DataFrame({\n",
    "    'y': df['y'],\n",
    "    'Fourier Decomposition': fdm_yhat,\n",
    "    'Complete Pooling': cpm_yhat,\n",
    "    'Partial Pooling': ppm_yhat,\n",
    "    'Mixed Pooling' : mm_yhat\n",
    "})\n",
    "plot_predict(total_df)\n",
    "\n",
    "mae_df = pd.DataFrame({\n",
    "    'fdm_mae': fdm_mae_w,\n",
    "    'cpm_mae': cpm_mae_w,\n",
    "    'ppm_mae': ppm_mae_w,\n",
    "    'mm_mae' : mm_mae_w\n",
    "})\n",
    "mae_df.mean()"
   ]
  },
  {
   "cell_type": "code",
   "execution_count": null,
   "metadata": {},
   "outputs": [],
   "source": [
    "cpm_loo_w = np.asarray([\n",
    "    calculate_loo(cpm.sampling(data = generate_cpm_data(train_df)))\n",
    "    for train_df, _ in generate_cv_data(df, 365, 30)\n",
    "])\n",
    "ppm_loo_w = np.asarray([\n",
    "    calculate_loo(ppm.sampling(data = generate_ppm_data(train_df,'weekday')))\n",
    "    for train_df, _ in generate_cv_data(df, 365, 30)\n",
    "])\n",
    "mm_loo_w = np.asarray([\n",
    "    calculate_loo(mm.sampling(data = generate_mm_data(train_df, season_w, 'weekday', 'monthday')))\n",
    "    for train_df, _ in generate_cv_data(df, 365, 30)\n",
    "])\n",
    "\n",
    "fdm_loo_w = np.asarray([\n",
    "    calculate_loo(fdm.sampling(data = generate_fdm_data(train_df,(7, 3)))) \n",
    "    for train_df, _ in generate_cv_data(df, 365, 30)\n",
    "])\n",
    "loo_df_w = pd.DataFrame({\n",
    "    'fdm_loo': fdm_loo_w,\n",
    "    'cpm_loo': cpm_loo_w,\n",
    "    'ppm_loo': ppm_loo_w,\n",
    "    'mm_loo': mm_loo_w,\n",
    "})\n",
    "print(loo_df_w.mean())\n",
    "# fdm_loo   -727.884554\n",
    "# cpm_loo    268.452426\n",
    "# ppm_loo   -729.467722\n",
    "# mm_loo    -730.886467\n",
    "# dtype: float64"
   ]
  },
  {
   "cell_type": "markdown",
   "metadata": {},
   "source": [
    "## Data II: Restock\n",
    "\n",
    "Our second dataset restock shows clear monthly periodicity: it spikes at every beginning and end of the month. In autocorrelation, however, a relatively obscure periodicity is observed because the length of each month differs."
   ]
  },
  {
   "cell_type": "code",
   "execution_count": null,
   "metadata": {
    "scrolled": false
   },
   "outputs": [],
   "source": [
    "df = preprocess(pd.read_csv('restock.csv'))\n",
    "plot_data(df)"
   ]
  },
  {
   "cell_type": "markdown",
   "metadata": {},
   "source": [
    "For Fourier decomposition model we configure a monthly seasonality by setting 30.4375 days as period $P$ and 5 as Fourier order $n$."
   ]
  },
  {
   "cell_type": "code",
   "execution_count": null,
   "metadata": {},
   "outputs": [],
   "source": [
    "data = generate_fdm_data(df, (30.4375, 5))\n",
    "params = fdm.optimizing(data=data)\n",
    "predict_df = predict_fdm(params, df, (30.4375, 5))\n",
    "fdm_yhat_m = predict_df['yhat']\n",
    "\n",
    "fdm_mae_m = np.asarray([\n",
    "    calculate_mae(predict_fdm(fdm.optimizing(data=generate_fdm_data(train_df, (30.4375, 5))), test_df, (30.4375, 5)))\n",
    "    for train_df, test_df in generate_cv_data(df, 365, 30)\n",
    "])"
   ]
  },
  {
   "cell_type": "code",
   "execution_count": null,
   "metadata": {},
   "outputs": [],
   "source": [
    "data = generate_cpm_data(df)\n",
    "params = cpm.optimizing(data=data)\n",
    "predict_df = predict_cpm(params, df)\n",
    "cpm_yhat_m = predict_df['yhat']\n",
    "\n",
    "cpm_mae_m = np.asarray([\n",
    "    calculate_mae(predict_cpm(cpm.optimizing(data=generate_cpm_data(train_df)), test_df))\n",
    "    for train_df, test_df in generate_cv_data(df, 365, 30)\n",
    "])"
   ]
  },
  {
   "cell_type": "markdown",
   "metadata": {},
   "source": [
    "Since the dataset shows monthly seasonality, we are pooling data points by day of the month."
   ]
  },
  {
   "cell_type": "code",
   "execution_count": null,
   "metadata": {},
   "outputs": [],
   "source": [
    "data = generate_ppm_data(df, 'monthday')\n",
    "params = ppm.optimizing(data=data)\n",
    "predict_df = predict_ppm(params, df, 'monthday')\n",
    "ppm_yhat_m = predict_df['yhat']\n",
    "\n",
    "ppm_mae_m = np.asarray([\n",
    "    calculate_mae(predict_ppm(ppm.optimizing(data=generate_ppm_data(train_df, 'monthday'), algorithm='Newton'), test_df, 'monthday'))\n",
    "    for train_df, test_df in generate_cv_data(df, 365, 30)\n",
    "])"
   ]
  },
  {
   "cell_type": "code",
   "execution_count": null,
   "metadata": {},
   "outputs": [],
   "source": [
    "season_w = np.array([1,5])\n",
    "data = generate_mm_data(df,season_w, 'weekday', 'monthday')\n",
    "\n",
    "params = mm.optimizing(data=data)\n",
    "predict_df = predict_mm(params, df, 'weekday', 'monthday')\n",
    "mm_yhat = predict_df['yhat']\n",
    "\n",
    "mm_mae_m = np.asarray([\n",
    "    calculate_mae(predict_mm(mm.optimizing(data=generate_mm_data(train_df, season_w,'weekday', 'monthday'), algorithm='Newton'), test_df, 'weekday', 'monthday'))\n",
    "    for train_df, test_df in generate_cv_data(df, 365, 30)\n",
    "])"
   ]
  },
  {
   "cell_type": "code",
   "execution_count": null,
   "metadata": {},
   "outputs": [],
   "source": [
    "cpm_loo = np.asarray([\n",
    "    calculate_loo(cpm.sampling(data = generate_cpm_data(train_df)))\n",
    "    for train_df, _ in generate_cv_data(df, 365, 30)\n",
    "])\n",
    "# ppm_loo_m = np.asarray([\n",
    "#     calculate_loo(ppm.sampling(data = generate_ppm_data(train_df,'monthday')))\n",
    "#     for train_df, _ in generate_cv_data(df, 365, 30)\n",
    "# ])\n",
    "mm_loo_m = np.asarray([\n",
    "    calculate_loo(mm.sampling(data = generate_mm_data(train_df, season_w, 'weekday', 'monthday')))\n",
    "    for train_df, _ in generate_cv_data(df, 365, 30)\n",
    "])\n",
    "\n",
    "# fdm_loo_m = np.asarray([\n",
    "#     calculate_loo(fdm.sampling(data = generate_fdm_data(train_df,(30.4375, 5)))) \n",
    "#     for train_df, _ in generate_cv_data(df, 365, 30)\n",
    "# ])\n",
    "loo_df = pd.DataFrame({\n",
    "    'fdm_loo': fdm_loo_m,\n",
    "    'cpm_loo': cpm_loo,\n",
    "    'ppm_loo': ppm_loo_m,\n",
    "    'mm_loo': mm_loo_m,\n",
    "})\n",
    "print(loo_df.mean())\n",
    "# fdm_loo   -727.795458\n",
    "# cpm_loo    268.477949\n",
    "# ppm_loo   -729.693335\n",
    "# mm_loo    -728.662423\n",
    "# dtype: float64"
   ]
  },
  {
   "cell_type": "markdown",
   "metadata": {},
   "source": [
    "Partial polling model is showing a significantly higher performance compared to other models.\n",
    "\n",
    "The plot shows that Fourier decomposition model with given Fourier order does not fit the extreme spikes correctly."
   ]
  },
  {
   "cell_type": "code",
   "execution_count": null,
   "metadata": {
    "scrolled": true
   },
   "outputs": [],
   "source": [
    "total_df_m = pd.DataFrame({\n",
    "    'y': df['y'],\n",
    "    'Fourier Decomposition': fdm_yhat_m,\n",
    "    'Complete Pooling': cpm_yhat_m,\n",
    "    'Partial Pooling': ppm_yhat_m,\n",
    "    'Mixed Pooling' : mm_yhat_m\n",
    "})\n",
    "plot_predict(total_df_m)\n",
    "\n",
    "mae_df_m = pd.DataFrame({\n",
    "    'fdm_mae': fdm_mae_m,\n",
    "    'cpm_mae': cpm_mae_m,\n",
    "    'ppm_mae': ppm_mae_m,\n",
    "    'mm_mae' : mm_mae_m\n",
    "})\n",
    "mae_df_m.mean()"
   ]
  },
  {
   "cell_type": "markdown",
   "metadata": {},
   "source": [
    "## Data III: Shipment\n",
    "\n",
    "Our third dataset shipment shows strong monthly periodicity as well as subtle monthly periodicity."
   ]
  },
  {
   "cell_type": "code",
   "execution_count": 13,
   "metadata": {},
   "outputs": [
    {
     "data": {
      "image/png": "[encoded data removed]",
      "text/plain": [
       "<Figure size 720x576 with 2 Axes>"
      ]
     },
     "metadata": {
      "needs_background": "light"
     },
     "output_type": "display_data"
    }
   ],
   "source": [
    "df = preprocess(pd.read_csv('shipment.csv'))\n",
    "plot_data(df)"
   ]
  },
  {
   "cell_type": "markdown",
   "metadata": {},
   "source": [
    "For Fourier decomposition model we configure both weekly and monthly seasonality."
   ]
  },
  {
   "cell_type": "code",
   "execution_count": 33,
   "metadata": {
    "scrolled": true
   },
   "outputs": [
    {
     "name": "stderr",
     "output_type": "stream",
     "text": [
      "/usr/local/lib/python3.7/site-packages/ipykernel_launcher.py:2: FutureWarning: The pandas.datetime class is deprecated and will be removed from pandas in a future version. Import from datetime module instead.\n",
      "  \n"
     ]
    }
   ],
   "source": [
    "data = generate_fdm_data(df, (7, 3), (30.4375, 5))\n",
    "params = fdm.optimizing(data=data)\n",
    "predict_df = predict_fdm(params, df, (7, 3), (30.4375, 5))\n",
    "fdm_yhat_wm = predict_df['yhat']\n",
    "\n",
    "fdm_mae_wm = np.asarray([\n",
    "    calculate_mae(predict_fdm(fdm.optimizing(data=generate_fdm_data(train_df, (7, 3), (30.4375, 5))), test_df, (7, 3), (30.4375, 5)))\n",
    "    for train_df, test_df in generate_cv_data(df, 365, 30)\n",
    "])  \n",
    "fdm_mape_wm = np.asarray([\n",
    "    calculate_mape(predict_fdm(fdm.optimizing(data=generate_fdm_data(train_df, (7, 3), (30.4375, 5))), test_df, (7, 3), (30.4375, 5)))\n",
    "    for train_df, test_df in generate_cv_data(df, 365, 30)\n",
    "]) \n",
    "# fdm_loo_wm = np.asarray([\n",
    "#     calculate_loo(fdm.sampling(data = generate_fdm_data(train_df,(7, 3), (30.4375, 5)))) \n",
    "#     for train_df, _ in generate_cv_data(df, 365, 30)\n",
    "# ])"
   ]
  },
  {
   "cell_type": "code",
   "execution_count": 31,
   "metadata": {
    "scrolled": true
   },
   "outputs": [],
   "source": [
    "data = generate_cpm_data(df)\n",
    "params = cpm.optimizing(data=data)\n",
    "predict_df = predict_cpm(params, df)\n",
    "cpm_yhat_wm = predict_df['yhat']\n",
    "\n",
    "cpm_mae_wm = np.asarray([\n",
    "    calculate_mae(predict_cpm(cpm.optimizing(data=generate_cpm_data(train_df)), test_df))\n",
    "    for train_df, test_df in generate_cv_data(df, 365, 30)\n",
    "])\n",
    "cpm_mape_wm = np.asarray([\n",
    "    calculate_mape(predict_cpm(cpm.optimizing(data=generate_cpm_data(train_df)), test_df))\n",
    "    for train_df, test_df in generate_cv_data(df, 365, 30)\n",
    "])\n",
    "# cpm_loo_wm = np.asarray([\n",
    "#     calculate_loo(cpm.sampling(data = generate_cpm_data(train_df)))\n",
    "#     for train_df, _ in generate_cv_data(df, 365, 30)\n",
    "# ])"
   ]
  },
  {
   "cell_type": "code",
   "execution_count": 32,
   "metadata": {
    "scrolled": true
   },
   "outputs": [],
   "source": [
    "data = generate_ppm_data(df, 'weekday')\n",
    "params = ppm.optimizing(data=data)\n",
    "predict_df = predict_ppm(params, df, 'weekday')\n",
    "ppm_yhat_wm = predict_df['yhat']\n",
    "\n",
    "ppm_mae_wm = np.asarray([\n",
    "    calculate_mae(predict_ppm(ppm.optimizing(data=generate_ppm_data(train_df, 'weekday'), algorithm='Newton'), test_df, 'weekday'))\n",
    "    for train_df, test_df in generate_cv_data(df, 365, 30)\n",
    "])\n",
    "ppm_mape_wm = np.asarray([\n",
    "    calculate_mape(predict_ppm(ppm.optimizing(data=generate_ppm_data(train_df, 'weekday'), algorithm='Newton'), test_df, 'weekday'))\n",
    "    for train_df, test_df in generate_cv_data(df, 365, 30)\n",
    "])\n",
    "# ppm_loo_wm = np.asarray([\n",
    "#     calculate_loo(ppm.sampling(data = generate_ppm_data(train_df,'weekday')))\n",
    "#     for train_df, _ in generate_cv_data(df, 365, 30)\n",
    "# ])"
   ]
  },
  {
   "cell_type": "markdown",
   "metadata": {},
   "source": [
    "To consider both weekly and monthly seasonality in pooling model, we use our mixture model and provide pooling dimensions corresponding to each seasonality."
   ]
  },
  {
   "cell_type": "code",
   "execution_count": 26,
   "metadata": {},
   "outputs": [],
   "source": [
    "season_w = np.array([5,1])\n",
    "data = generate_mm_data(df, season_w, 'weekday', 'monthday')\n",
    "params = mm.optimizing(data=data)\n",
    "predict_df = predict_mm(params, df, 'weekday', 'monthday')\n",
    "mm_yhat_wm = predict_df['yhat']\n",
    "\n",
    "mm_mae_wm = np.asarray([\n",
    "    calculate_mae(predict_mm(mm.optimizing(data=generate_mm_data(train_df, season_w, 'weekday', 'monthday'), algorithm='Newton'), test_df, 'weekday', 'monthday'))\n",
    "    for train_df, test_df in generate_cv_data(df, 365, 30)\n",
    "])\n",
    "# mm_loo_wm = np.asarray([\n",
    "#     calculate_loo(mm.sampling(data = generate_mm_data(train_df,season_w, 'weekday', 'monthday')))\n",
    "#     for train_df, _ in generate_cv_data(df, 365, 30)\n",
    "# ])"
   ]
  },
  {
   "cell_type": "code",
   "execution_count": 36,
   "metadata": {},
   "outputs": [],
   "source": [
    "mm_mape_wm = np.asarray([\n",
    "    calculate_mape(predict_mm(mm.optimizing(data=generate_mm_data(train_df, season_w, 'weekday', 'monthday'), algorithm='Newton'), test_df, 'weekday', 'monthday'))\n",
    "    for train_df, test_df in generate_cv_data(df, 365, 30)\n",
    "])"
   ]
  },
  {
   "cell_type": "markdown",
   "metadata": {},
   "source": [
    "Overall, mixture models performs the best for both measures.\n",
    "\n",
    "Partial pooling model with weekly seasonality seems to be largely influenced by monthly spikes and appears to fit on a larger value.\n",
    "\n",
    "Fourier decomposition models performs better than partial polling model but like with the restock dataset it does not fit the monthly seasonality well."
   ]
  },
  {
   "cell_type": "code",
   "execution_count": 22,
   "metadata": {
    "scrolled": false
   },
   "outputs": [
    {
     "name": "stderr",
     "output_type": "stream",
     "text": [
      "WARNING:matplotlib.backends.backend_ps:The PostScript backend does not support transparency; partially transparent artists will be rendered opaque.\n",
      "WARNING:matplotlib.backends.backend_ps:The PostScript backend does not support transparency; partially transparent artists will be rendered opaque.\n"
     ]
    },
    {
     "data": {
      "image/png": "[encoded data removed]",
      "text/plain": [
       "<Figure size 720x288 with 1 Axes>"
      ]
     },
     "metadata": {
      "needs_background": "light"
     },
     "output_type": "display_data"
    }
   ],
   "source": [
    "total_df_wm = pd.DataFrame({\n",
    "    'y': df['y'],\n",
    "    'Fourier Decomposition': fdm_yhat_wm,\n",
    "    'Complete Pooling': cpm_yhat_wm,\n",
    "    #'Partial Pooling': ppm_yhat_wm,\n",
    "    'Mixed Pooling' : mm_yhat_wm\n",
    "})\n",
    "plot_predict(total_df_wm)\n"
   ]
  },
  {
   "cell_type": "code",
   "execution_count": 27,
   "metadata": {},
   "outputs": [
    {
     "data": {
      "text/plain": [
       "fdm_mae    5.395943e+04\n",
       "cpm_mae    7.733300e+04\n",
       "mm_mae     1.209045e+07\n",
       "dtype: float64"
      ]
     },
     "execution_count": 27,
     "metadata": {},
     "output_type": "execute_result"
    }
   ],
   "source": [
    "mae_df_wm = pd.DataFrame({\n",
    "    'fdm_mae': fdm_mae_wm,\n",
    "    'cpm_mae': cpm_mae_wm,\n",
    "    #'ppm_mae': ppm_mae_w,\n",
    "    'mm_mae' : mm_mae_wm\n",
    "})\n",
    "mae_df_wm.mean() #54220.316478"
   ]
  },
  {
   "cell_type": "code",
   "execution_count": 29,
   "metadata": {},
   "outputs": [
    {
     "ename": "NameError",
     "evalue": "name 'fdm_mape_wm' is not defined",
     "output_type": "error",
     "traceback": [
      "\u001b[0;31m---------------------------------------------------------------------------\u001b[0m",
      "\u001b[0;31mNameError\u001b[0m                                 Traceback (most recent call last)",
      "\u001b[0;32m<ipython-input-29-989c9d9124e9>\u001b[0m in \u001b[0;36m<module>\u001b[0;34m\u001b[0m\n\u001b[1;32m      1\u001b[0m mape_df_wm = pd.DataFrame({\n\u001b[0;32m----> 2\u001b[0;31m     \u001b[0;34m'fdm_mae'\u001b[0m\u001b[0;34m:\u001b[0m \u001b[0mfdm_mape_wm\u001b[0m\u001b[0;34m,\u001b[0m\u001b[0;34m\u001b[0m\u001b[0;34m\u001b[0m\u001b[0m\n\u001b[0m\u001b[1;32m      3\u001b[0m     \u001b[0;34m'cpm_mae'\u001b[0m\u001b[0;34m:\u001b[0m \u001b[0mcpm_mape_wm\u001b[0m\u001b[0;34m,\u001b[0m\u001b[0;34m\u001b[0m\u001b[0;34m\u001b[0m\u001b[0m\n\u001b[1;32m      4\u001b[0m     \u001b[0;34m'ppm_mae'\u001b[0m\u001b[0;34m:\u001b[0m \u001b[0mppm_mape_wm\u001b[0m\u001b[0;34m,\u001b[0m\u001b[0;34m\u001b[0m\u001b[0;34m\u001b[0m\u001b[0m\n\u001b[1;32m      5\u001b[0m     \u001b[0;34m'mm_mae'\u001b[0m\u001b[0;34m:\u001b[0m \u001b[0mmm_mape_wm\u001b[0m\u001b[0;34m,\u001b[0m\u001b[0;34m\u001b[0m\u001b[0;34m\u001b[0m\u001b[0m\n",
      "\u001b[0;31mNameError\u001b[0m: name 'fdm_mape_wm' is not defined"
     ]
    }
   ],
   "source": [
    "mape_df_wm = pd.DataFrame({\n",
    "    'fdm_mae': fdm_mape_wm,\n",
    "    'cpm_mae': cpm_mape_wm,\n",
    "    'ppm_mae': ppm_mape_wm,\n",
    "    'mm_mae': mm_mape_wm,\n",
    "})\n",
    "print(mape_df_wm.mean())"
   ]
  },
  {
   "cell_type": "code",
   "execution_count": 23,
   "metadata": {},
   "outputs": [
    {
     "name": "stdout",
     "output_type": "stream",
     "text": [
      "fdm_mae    53959.431073\n",
      "cpm_mae    77333.002815\n",
      "ppm_mae    57838.610413\n",
      "mm_mae     54220.316478\n",
      "dtype: float64\n",
      "fdm_loo   -1053.859531\n",
      "cpm_loo    -731.105606\n",
      "ppm_loo    -855.489441\n",
      "mm_loo    -1279.167838\n",
      "dtype: float64\n"
     ]
    }
   ],
   "source": [
    "mae_df_wm = pd.DataFrame({\n",
    "    'fdm_mae': fdm_mae_wm,\n",
    "    'cpm_mae': cpm_mae_wm,\n",
    "    'ppm_mae': ppm_mae_wm,\n",
    "    'mm_mae': mm_mae_wm,\n",
    "})\n",
    "print(mae_df_wm.mean())\n",
    "loo_df_wm = pd.DataFrame({\n",
    "    'fdm_loo': fdm_loo_wm,\n",
    "    'cpm_loo': cpm_loo_wm,\n",
    "    'ppm_loo': ppm_loo_wm,\n",
    "    'mm_loo': mm_loo_wm,\n",
    "})\n",
    "print(loo_df_wm.mean())"
   ]
  },
  {
   "cell_type": "markdown",
   "metadata": {},
   "source": [
    "# Analysis"
   ]
  },
  {
   "cell_type": "code",
   "execution_count": null,
   "metadata": {},
   "outputs": [],
   "source": [
    "def plot_fit(fit, legend=None):\n",
    "    fig, axes = plt.subplots(2, 2, figsize=(10, 8))\n",
    "    samples = fit.extract()\n",
    "    for i, var in enumerate(['m', 'k']):\n",
    "        plot = pd.DataFrame(samples[var]).plot.kde(ax=axes[i][0])\n",
    "        axes[i][0].set_xlabel(var)\n",
    "        if legend is not None:\n",
    "            plot.legend([plot.lines[j] for j in legend], legend)\n",
    "        plot = pd.DataFrame(samples[var]).sample(500, axis=0).sort_index().plot.line(ax=axes[i][1])\n",
    "        axes[i][1].set_xlabel(var)\n",
    "        if legend is not None:\n",
    "            plot.legend([plot.lines[j] for j in legend], legend)\n",
    "    fig.tight_layout()\n",
    "\n",
    "def plot_mixture_fit(fit, pools, legends=[None, None]):\n",
    "    fig, axes = plt.subplots(len(pools) * 2 + 1, 2, figsize=(10, 8 * len(pools) + 4))\n",
    "    samples = fit.extract()\n",
    "    for i, pool in enumerate(pools):\n",
    "        for j, var in enumerate(['m', 'k']):\n",
    "            a = i * 2 + j\n",
    "            plot = pd.DataFrame(samples[var][:,i,:pool]).plot.kde(ax=axes[a][0])\n",
    "            axes[a][0].set_xlabel(f'{var}_{i}')\n",
    "            if legends[i] is not None:\n",
    "                plot.legend([plot.lines[k] for k in legends[i]], legends[i])\n",
    "            plot = pd.DataFrame(samples[var][:,i,:pool]).sample(500, axis=0).sort_index().plot.line(ax=axes[a][1])\n",
    "            axes[a][1].set_xlabel(f'{var}_{i}')\n",
    "            if legends[i] is not None:\n",
    "                plot.legend([plot.lines[k] for k in legends[i]], legends[i])\n",
    "    pd.DataFrame(samples['theta']).plot.kde(ax=axes[-1][0])\n",
    "    axes[-1][0].set_xlabel('theta')\n",
    "    pd.DataFrame(samples['theta']).sample(500, axis=0).sort_index().plot.line(ax=axes[-1][1])\n",
    "    axes[-1][1].set_xlabel('theta')\n",
    "    fig.tight_layout()"
   ]
  },
  {
   "cell_type": "markdown",
   "metadata": {},
   "source": [
    "## Parameter divergence in partial polling"
   ]
  },
  {
   "cell_type": "markdown",
   "metadata": {},
   "source": [
    "In delivery dataset, there is a sharp fall in time series every Sunday. Parameter plots from partial polling model below shows that the probability distribution of the parameters $m$ and $k$ of the 6th day of the week is differentiated from the other parameters."
   ]
  },
  {
   "cell_type": "code",
   "execution_count": null,
   "metadata": {},
   "outputs": [],
   "source": [
    "df = preprocess(pd.read_csv('delivery.csv'))\n",
    "data = generate_ppm_data(df, 'weekday')\n",
    "stan_fit = ppm.sampling(data=data)\n",
    "plot_fit(stan_fit)\n",
    "pystan.check_hmc_diagnostics(stan_fit)"
   ]
  },
  {
   "cell_type": "markdown",
   "metadata": {},
   "source": [
    "Similarly, in restock data set, we can see that the probability distributions of the parameters $m$ and $k$ at the beginning and end of the month are differentiated."
   ]
  },
  {
   "cell_type": "code",
   "execution_count": null,
   "metadata": {},
   "outputs": [],
   "source": [
    "df = preprocess(pd.read_csv('restock.csv'))\n",
    "data = generate_ppm_data(df, 'monthday')\n",
    "stan_fit = ppm.sampling(data=data)\n",
    "plot_fit(stan_fit, legend=[0, 30])\n",
    "pystan.check_hmc_diagnostics(stan_fit)"
   ]
  },
  {
   "cell_type": "markdown",
   "metadata": {},
   "source": [
    "## Seasonality contribution factor $\\theta$\n",
    "\n",
    "We can use theta with extreme care to account for the interaction of seasonalities. Seasonality with higher mixture weight might be said to have a greater effect on time series."
   ]
  },
  {
   "cell_type": "markdown",
   "metadata": {},
   "source": [
    "In the bottom plot, you can see the probability distribution of the mixture weight $\\theta$ of weekly seasonality parameters and monthly seasonality parameters in the shipment dataset. The maximum a posteriori estimates of each weight are about 0.6 and 0.4, so it can be said that the weekly seasonality affects about twice the monthly seasonality, linearly."
   ]
  },
  {
   "cell_type": "code",
   "execution_count": null,
   "metadata": {
    "scrolled": false
   },
   "outputs": [],
   "source": [
    "df = preprocess(pd.read_csv('shipment.csv'))\n",
    "data = generate_mm_data(df, 'weekday', 'monthday')\n",
    "stan_fit = mm.sampling(data=data)\n",
    "plot_mixture_fit(stan_fit, [7, 31], legends=[None, [0, 29, 30]])\n",
    "pystan.check_hmc_diagnostics(stan_fit)"
   ]
  },
  {
   "cell_type": "markdown",
   "metadata": {},
   "source": [
    "On the other hand, in the delivery dataset, where the monthly seasonality is hardly observed, weight for monthly seasonality is distributed near zero."
   ]
  },
  {
   "cell_type": "code",
   "execution_count": null,
   "metadata": {
    "scrolled": false
   },
   "outputs": [],
   "source": [
    "df = preprocess(pd.read_csv('delivery.csv'))\n",
    "data = generate_mm_data(df, 'weekday', 'monthday')\n",
    "stan_fit = mm.sampling(data=data)\n",
    "plot_mixture_fit(stan_fit, [7, 31], legends=[None, []])\n",
    "pystan.check_hmc_diagnostics(stan_fit)"
   ]
  },
  {
   "cell_type": "markdown",
   "metadata": {},
   "source": [
    "# Conclusion\n",
    "\n",
    "We have proposed a hierarchical model for time series data with multiple seasonalities. We have demonstrated the model with real-world dataset from a logistic network and evaluated among simpler models or models with previous methods. We have compared the new model with the previous methods through validation and confirmed that the prediction performance in the given dataset was greatly improved. Moreover, we have shown that the fitted parameters can reasonably explain the contribution of each seasonality to time series.\n",
    "\n",
    "The new model utilized the strengths of the hierarchical Bayesian model and was able to achieve both robust estimation and model interpretability. Stan has made the overall process of developing and utilizing Bayesian models effective and concise. We plan to use the model and the Stan-based implementation for the prediction in real-world logistics industry."
   ]
  },
  {
   "cell_type": "markdown",
   "metadata": {},
   "source": [
    "# References"
   ]
  },
  {
   "cell_type": "markdown",
   "metadata": {},
   "source": [
    "1. Bertsimas, D., Bjarnadóttir, M. V., Kane, M. A., Kryder, J. C., Pandey, R., Vempala, S., & Wang, G. (2008). Algorithmic prediction of health-care costs. Operations Research, 56(6), 1382-1392.\n",
    "\n",
    "1. Gelman, A., Carlin, J. B., Stern, H. S., Dunson, D. B., Vehtari, A., & Rubin, D. B. (2013). Bayesian data analysis. Chapman and Hall/CRC.\n",
    "\n",
    "1. Gelman, A., & Hill, J. (2006). Data analysis using regression and multilevel/hierarchical models. Cambridge university press.\n",
    "\n",
    "1.\tHyndman, R. J., & Athanasopoulos, G. (2018). Forecasting: principles and practice. OTexts.\n",
    "\n",
    "1. Hyndman, R. J., Koehler, A. B., Snyder, R. D., & Grose, S. (2002). A state space framework for automatic forecasting using exponential smoothing methods. International Journal of forecasting, 18(3), 439-454.\n",
    "\n",
    "1. Shumway, R. H., & Stoffer, D. S. (2017). Time series analysis and its applications: with R examples. Springer.\n",
    " \n",
    "1. Taylor, S. J., & Letham, B. (2018). Forecasting at scale. The American Statistician, 72(1), 37-45."
   ]
  }
 ],
 "metadata": {
  "kernelspec": {
   "display_name": "Python 3",
   "language": "python",
   "name": "python3"
  },
  "language_info": {
   "codemirror_mode": {
    "name": "ipython",
    "version": 3
   },
   "file_extension": ".py",
   "mimetype": "text/x-python",
   "name": "python",
   "nbconvert_exporter": "python",
   "pygments_lexer": "ipython3",
   "version": "3.7.7"
  }
 },
 "nbformat": 4,
 "nbformat_minor": 2
}
